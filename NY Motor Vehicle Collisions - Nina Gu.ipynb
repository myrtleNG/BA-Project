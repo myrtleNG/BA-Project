{
 "cells": [
  {
   "cell_type": "markdown",
   "id": "5ae24641-3d72-4adc-b32a-d9576fdce957",
   "metadata": {},
   "source": [
    "# NY Motor Vehicle Collisions – Exploratory Data Analysis  "
   ]
  },
  {
   "cell_type": "markdown",
   "id": "4763c067-6243-477d-8380-fa3c2d32cfdd",
   "metadata": {},
   "source": [
    "This notebook focuses on the analysis of New York City's vehicular collision data, which is publicly available on the official New York City Open Data platform at https://data.cityofnewyork.us/Public-Safety/Motor-Vehicle-Collisions-Crashes/h9gi-nx95. The dataset contains information about motor vehicle crashes that occurred within the city.\n",
    "\n",
    "\n",
    "\n",
    "Comprehending the dynamics of motor vehicle collisions is crucial for promoting public safety and providing essential information for policy decisions. The dataset offers a comprehensive overview of vehicular accidents, capturing detailed information such as date, time, location, contributing factors, and outcomes. This analysis aims to extract valuable insights from the data, serving policymakers, law enforcement, and the public. The goal is to foster a nuanced understanding of the factors influencing motor vehicle incidents, ultimately reducing accident occurrences and enhancing road safety.\n",
    "\n",
    "\n",
    "The data contains information from all police-reported motor vehicle collisions in NYC. The information for this dataset is collated from the police report, called MV104-AN, which is required to be filled out for collisions where someone is injured or killed, or where there is at least $1000 worth of damage.\n",
    "\n",
    "\n",
    "Data is available from 2012-07-01 onwards, however for this analysis, we will limit ourselves to the period up to 2023-08-15, which is when the data was downloaded.\n",
    "We find that this data contains over 2 million observations, which allows us to explore several aspects of vehicle crashes in NY's boroughs.\n",
    "\n",
    "\n",
    "The data dictionary for the data is also available at the URL above.\n",
    "\n",
    "\n",
    "By leveraging exploratory data analysis (EDA) techniques and visualization tools, we aim to uncover insights into the factors contributing to collisions, identify high-risk areas, and provide valuable information for policymakers, law enforcement, and the general public. The analysis will be conducted using Python and popular data science libraries such as Pandas, Matplotlib, and Seaborn.\n",
    "\n",
    "\n",
    "First, we perform unstructured exploration of the data, and then try to answer the following questions:\n",
    "\n",
    "- We relate the number of crashes to shethe borough's population to find out which borough has the maximum number of crashes for every 100,000 people. Even though the data does not have this information, we can combine the crash data with the population estimates for the boroughs also available from the City of New York's website (https://data.cityofnewyork.us/City-Government/New-York-City-Population-by-Borough-1950-2040/xywu-7bv9)\n",
    "\n",
    "| Borough | Population |\n",
    "| --- | --- |\n",
    "| Bronx | 1446788 |\n",
    "| Brooklyn | 2648452 |\n",
    "| Manhattan | 1638281 |\n",
    "| Queens | 2330295 |\n",
    "| Staten Island | 487155 | \n",
    "\n",
    "- Analyze the data to find the borough with the second-highest total number of crashes since 2012.\n",
    "- Identify the leading cause of crashes, excluding cases where the contributing factor is 'Unspecified', and calculate the proportion of accidents attributable to this cause.\n",
    "- Determine the top 5 causes of crashes (excluding 'Unspecified') and calculate the proportion of total crashes caused by these top 5 factors.\n",
    "- Analyze the dataset to determine the total number of accidents reported since 2012 where the incident resulted in two or more fatalities.\n",
    "- Conduct an analysis to determine the average fatality rate per 1000 accidents, showcasing how frequently at least one person succumbs to injuries in the dataset.\n",
    "- Perform an analysis to calculate the proportion of accidents within the dataset that lack information on the Cross Street Name.\n",
    "- Identify the combination of vehicles (represented by 'VEHICLE TYPE CODE 1' and 'VEHICLE TYPE CODE 2') with the most number of accidents.\n",
    "- Among alcohol-related crashes, calculate the proportion that resulted in a fatality.\n",
    "- Calculate the proportion of crashes that occur during the evening rush hour (4 PM to 7 PM).\n",
    "- Among motorcycle crashes, calculate the proportion that resulted in injuries but no fatalities.\n",
    "- Analyze the dataset to calculate the total number of crashes involving bicycles as one of the vehicles, providing insights into the frequency of such incidents.\n",
    "- Combine crash data with population estimates and determine the borough with the most crashes for every 100,000 people.\n"
   ]
  },
  {
   "cell_type": "code",
   "execution_count": 1,
   "id": "49520c14-9f40-4276-89c0-c2e26d69985f",
   "metadata": {},
   "outputs": [],
   "source": [
    "import pandas as pd\n",
    "import numpy as np\n",
    "import seaborn as sns\n",
    "import os\n",
    "import matplotlib.pyplot as plt\n",
    "import phik\n",
    "from IPython.display import Markdown as md"
   ]
  },
  {
   "cell_type": "code",
   "execution_count": 3,
   "id": "67549993-0cde-4d51-905d-53691db56ce2",
   "metadata": {},
   "outputs": [
    {
     "data": {
      "text/html": [
       "<div>\n",
       "<style scoped>\n",
       "    .dataframe tbody tr th:only-of-type {\n",
       "        vertical-align: middle;\n",
       "    }\n",
       "\n",
       "    .dataframe tbody tr th {\n",
       "        vertical-align: top;\n",
       "    }\n",
       "\n",
       "    .dataframe thead th {\n",
       "        text-align: right;\n",
       "    }\n",
       "</style>\n",
       "<table border=\"1\" class=\"dataframe\">\n",
       "  <thead>\n",
       "    <tr style=\"text-align: right;\">\n",
       "      <th></th>\n",
       "      <th>CRASH DATE_CRASH TIME</th>\n",
       "      <th>BOROUGH</th>\n",
       "      <th>ZIP CODE</th>\n",
       "      <th>LATITUDE</th>\n",
       "      <th>LONGITUDE</th>\n",
       "      <th>LOCATION</th>\n",
       "      <th>ON STREET NAME</th>\n",
       "      <th>CROSS STREET NAME</th>\n",
       "      <th>OFF STREET NAME</th>\n",
       "      <th>NUMBER OF PERSONS INJURED</th>\n",
       "      <th>...</th>\n",
       "      <th>CONTRIBUTING FACTOR VEHICLE 2</th>\n",
       "      <th>CONTRIBUTING FACTOR VEHICLE 3</th>\n",
       "      <th>CONTRIBUTING FACTOR VEHICLE 4</th>\n",
       "      <th>CONTRIBUTING FACTOR VEHICLE 5</th>\n",
       "      <th>COLLISION_ID</th>\n",
       "      <th>VEHICLE TYPE CODE 1</th>\n",
       "      <th>VEHICLE TYPE CODE 2</th>\n",
       "      <th>VEHICLE TYPE CODE 3</th>\n",
       "      <th>VEHICLE TYPE CODE 4</th>\n",
       "      <th>VEHICLE TYPE CODE 5</th>\n",
       "    </tr>\n",
       "  </thead>\n",
       "  <tbody>\n",
       "    <tr>\n",
       "      <th>0</th>\n",
       "      <td>2021-09-11 02:39:00</td>\n",
       "      <td>NaN</td>\n",
       "      <td>NaN</td>\n",
       "      <td>NaN</td>\n",
       "      <td>NaN</td>\n",
       "      <td>NaN</td>\n",
       "      <td>WHITESTONE EXPRESSWAY</td>\n",
       "      <td>20 AVENUE</td>\n",
       "      <td>NaN</td>\n",
       "      <td>2.0</td>\n",
       "      <td>...</td>\n",
       "      <td>Unspecified</td>\n",
       "      <td>NaN</td>\n",
       "      <td>NaN</td>\n",
       "      <td>NaN</td>\n",
       "      <td>4455765</td>\n",
       "      <td>Sedan</td>\n",
       "      <td>Sedan</td>\n",
       "      <td>NaN</td>\n",
       "      <td>NaN</td>\n",
       "      <td>NaN</td>\n",
       "    </tr>\n",
       "    <tr>\n",
       "      <th>1</th>\n",
       "      <td>2022-03-26 11:45:00</td>\n",
       "      <td>NaN</td>\n",
       "      <td>NaN</td>\n",
       "      <td>NaN</td>\n",
       "      <td>NaN</td>\n",
       "      <td>NaN</td>\n",
       "      <td>QUEENSBORO BRIDGE UPPER</td>\n",
       "      <td>NaN</td>\n",
       "      <td>NaN</td>\n",
       "      <td>1.0</td>\n",
       "      <td>...</td>\n",
       "      <td>NaN</td>\n",
       "      <td>NaN</td>\n",
       "      <td>NaN</td>\n",
       "      <td>NaN</td>\n",
       "      <td>4513547</td>\n",
       "      <td>Sedan</td>\n",
       "      <td>NaN</td>\n",
       "      <td>NaN</td>\n",
       "      <td>NaN</td>\n",
       "      <td>NaN</td>\n",
       "    </tr>\n",
       "    <tr>\n",
       "      <th>2</th>\n",
       "      <td>2022-06-29 06:55:00</td>\n",
       "      <td>NaN</td>\n",
       "      <td>NaN</td>\n",
       "      <td>NaN</td>\n",
       "      <td>NaN</td>\n",
       "      <td>NaN</td>\n",
       "      <td>THROGS NECK BRIDGE</td>\n",
       "      <td>NaN</td>\n",
       "      <td>NaN</td>\n",
       "      <td>0.0</td>\n",
       "      <td>...</td>\n",
       "      <td>Unspecified</td>\n",
       "      <td>NaN</td>\n",
       "      <td>NaN</td>\n",
       "      <td>NaN</td>\n",
       "      <td>4541903</td>\n",
       "      <td>Sedan</td>\n",
       "      <td>Pick-up Truck</td>\n",
       "      <td>NaN</td>\n",
       "      <td>NaN</td>\n",
       "      <td>NaN</td>\n",
       "    </tr>\n",
       "    <tr>\n",
       "      <th>3</th>\n",
       "      <td>2021-09-11 09:35:00</td>\n",
       "      <td>BROOKLYN</td>\n",
       "      <td>11208.0</td>\n",
       "      <td>40.667202</td>\n",
       "      <td>-73.866500</td>\n",
       "      <td>(40.667202, -73.8665)</td>\n",
       "      <td>NaN</td>\n",
       "      <td>NaN</td>\n",
       "      <td>1211      LORING AVENUE</td>\n",
       "      <td>0.0</td>\n",
       "      <td>...</td>\n",
       "      <td>NaN</td>\n",
       "      <td>NaN</td>\n",
       "      <td>NaN</td>\n",
       "      <td>NaN</td>\n",
       "      <td>4456314</td>\n",
       "      <td>Sedan</td>\n",
       "      <td>NaN</td>\n",
       "      <td>NaN</td>\n",
       "      <td>NaN</td>\n",
       "      <td>NaN</td>\n",
       "    </tr>\n",
       "    <tr>\n",
       "      <th>4</th>\n",
       "      <td>2021-12-14 08:13:00</td>\n",
       "      <td>BROOKLYN</td>\n",
       "      <td>11233.0</td>\n",
       "      <td>40.683304</td>\n",
       "      <td>-73.917274</td>\n",
       "      <td>(40.683304, -73.917274)</td>\n",
       "      <td>SARATOGA AVENUE</td>\n",
       "      <td>DECATUR STREET</td>\n",
       "      <td>NaN</td>\n",
       "      <td>0.0</td>\n",
       "      <td>...</td>\n",
       "      <td>NaN</td>\n",
       "      <td>NaN</td>\n",
       "      <td>NaN</td>\n",
       "      <td>NaN</td>\n",
       "      <td>4486609</td>\n",
       "      <td>NaN</td>\n",
       "      <td>NaN</td>\n",
       "      <td>NaN</td>\n",
       "      <td>NaN</td>\n",
       "      <td>NaN</td>\n",
       "    </tr>\n",
       "    <tr>\n",
       "      <th>...</th>\n",
       "      <td>...</td>\n",
       "      <td>...</td>\n",
       "      <td>...</td>\n",
       "      <td>...</td>\n",
       "      <td>...</td>\n",
       "      <td>...</td>\n",
       "      <td>...</td>\n",
       "      <td>...</td>\n",
       "      <td>...</td>\n",
       "      <td>...</td>\n",
       "      <td>...</td>\n",
       "      <td>...</td>\n",
       "      <td>...</td>\n",
       "      <td>...</td>\n",
       "      <td>...</td>\n",
       "      <td>...</td>\n",
       "      <td>...</td>\n",
       "      <td>...</td>\n",
       "      <td>...</td>\n",
       "      <td>...</td>\n",
       "      <td>...</td>\n",
       "    </tr>\n",
       "    <tr>\n",
       "      <th>2018240</th>\n",
       "      <td>2023-07-03 18:05:00</td>\n",
       "      <td>NaN</td>\n",
       "      <td>NaN</td>\n",
       "      <td>40.866806</td>\n",
       "      <td>-73.931010</td>\n",
       "      <td>(40.866806, -73.93101)</td>\n",
       "      <td>RIVERSIDE DRIVE</td>\n",
       "      <td>NaN</td>\n",
       "      <td>NaN</td>\n",
       "      <td>0.0</td>\n",
       "      <td>...</td>\n",
       "      <td>Unspecified</td>\n",
       "      <td>NaN</td>\n",
       "      <td>NaN</td>\n",
       "      <td>NaN</td>\n",
       "      <td>4648110</td>\n",
       "      <td>Sedan</td>\n",
       "      <td>Sedan</td>\n",
       "      <td>NaN</td>\n",
       "      <td>NaN</td>\n",
       "      <td>NaN</td>\n",
       "    </tr>\n",
       "    <tr>\n",
       "      <th>2018241</th>\n",
       "      <td>2023-07-22 21:39:00</td>\n",
       "      <td>BRONX</td>\n",
       "      <td>10457.0</td>\n",
       "      <td>40.844177</td>\n",
       "      <td>-73.902920</td>\n",
       "      <td>(40.844177, -73.90292)</td>\n",
       "      <td>EAST 174 STREET</td>\n",
       "      <td>WEBSTER AVENUE</td>\n",
       "      <td>NaN</td>\n",
       "      <td>1.0</td>\n",
       "      <td>...</td>\n",
       "      <td>NaN</td>\n",
       "      <td>NaN</td>\n",
       "      <td>NaN</td>\n",
       "      <td>NaN</td>\n",
       "      <td>4648117</td>\n",
       "      <td>Sedan</td>\n",
       "      <td>NaN</td>\n",
       "      <td>NaN</td>\n",
       "      <td>NaN</td>\n",
       "      <td>NaN</td>\n",
       "    </tr>\n",
       "    <tr>\n",
       "      <th>2018242</th>\n",
       "      <td>2023-07-02 17:55:00</td>\n",
       "      <td>MANHATTAN</td>\n",
       "      <td>10006.0</td>\n",
       "      <td>40.711033</td>\n",
       "      <td>-74.014540</td>\n",
       "      <td>(40.711033, -74.01454)</td>\n",
       "      <td>WEST STREET</td>\n",
       "      <td>LIBERTY STREET</td>\n",
       "      <td>NaN</td>\n",
       "      <td>0.0</td>\n",
       "      <td>...</td>\n",
       "      <td>NaN</td>\n",
       "      <td>NaN</td>\n",
       "      <td>NaN</td>\n",
       "      <td>NaN</td>\n",
       "      <td>4648366</td>\n",
       "      <td>Taxi</td>\n",
       "      <td>NaN</td>\n",
       "      <td>NaN</td>\n",
       "      <td>NaN</td>\n",
       "      <td>NaN</td>\n",
       "    </tr>\n",
       "    <tr>\n",
       "      <th>2018243</th>\n",
       "      <td>2023-07-22 13:15:00</td>\n",
       "      <td>QUEENS</td>\n",
       "      <td>11433.0</td>\n",
       "      <td>40.691580</td>\n",
       "      <td>-73.793190</td>\n",
       "      <td>(40.69158, -73.79319)</td>\n",
       "      <td>110 AVENUE</td>\n",
       "      <td>157 STREET</td>\n",
       "      <td>NaN</td>\n",
       "      <td>1.0</td>\n",
       "      <td>...</td>\n",
       "      <td>Driver Inattention/Distraction</td>\n",
       "      <td>NaN</td>\n",
       "      <td>NaN</td>\n",
       "      <td>NaN</td>\n",
       "      <td>4648129</td>\n",
       "      <td>Station Wagon/Sport Utility Vehicle</td>\n",
       "      <td>E-Bike</td>\n",
       "      <td>NaN</td>\n",
       "      <td>NaN</td>\n",
       "      <td>NaN</td>\n",
       "    </tr>\n",
       "    <tr>\n",
       "      <th>2018244</th>\n",
       "      <td>2023-07-22 03:00:00</td>\n",
       "      <td>QUEENS</td>\n",
       "      <td>11433.0</td>\n",
       "      <td>40.700240</td>\n",
       "      <td>-73.792854</td>\n",
       "      <td>(40.70024, -73.792854)</td>\n",
       "      <td>SOUTH ROAD</td>\n",
       "      <td>164 STREET</td>\n",
       "      <td>NaN</td>\n",
       "      <td>0.0</td>\n",
       "      <td>...</td>\n",
       "      <td>NaN</td>\n",
       "      <td>NaN</td>\n",
       "      <td>NaN</td>\n",
       "      <td>NaN</td>\n",
       "      <td>4647913</td>\n",
       "      <td>Sedan</td>\n",
       "      <td>NaN</td>\n",
       "      <td>NaN</td>\n",
       "      <td>NaN</td>\n",
       "      <td>NaN</td>\n",
       "    </tr>\n",
       "  </tbody>\n",
       "</table>\n",
       "<p>2018245 rows × 28 columns</p>\n",
       "</div>"
      ],
      "text/plain": [
       "        CRASH DATE_CRASH TIME    BOROUGH ZIP CODE   LATITUDE  LONGITUDE  \\\n",
       "0         2021-09-11 02:39:00        NaN      NaN        NaN        NaN   \n",
       "1         2022-03-26 11:45:00        NaN      NaN        NaN        NaN   \n",
       "2         2022-06-29 06:55:00        NaN      NaN        NaN        NaN   \n",
       "3         2021-09-11 09:35:00   BROOKLYN  11208.0  40.667202 -73.866500   \n",
       "4         2021-12-14 08:13:00   BROOKLYN  11233.0  40.683304 -73.917274   \n",
       "...                       ...        ...      ...        ...        ...   \n",
       "2018240   2023-07-03 18:05:00        NaN      NaN  40.866806 -73.931010   \n",
       "2018241   2023-07-22 21:39:00      BRONX  10457.0  40.844177 -73.902920   \n",
       "2018242   2023-07-02 17:55:00  MANHATTAN  10006.0  40.711033 -74.014540   \n",
       "2018243   2023-07-22 13:15:00     QUEENS  11433.0  40.691580 -73.793190   \n",
       "2018244   2023-07-22 03:00:00     QUEENS  11433.0  40.700240 -73.792854   \n",
       "\n",
       "                        LOCATION           ON STREET NAME CROSS STREET NAME  \\\n",
       "0                            NaN    WHITESTONE EXPRESSWAY         20 AVENUE   \n",
       "1                            NaN  QUEENSBORO BRIDGE UPPER               NaN   \n",
       "2                            NaN       THROGS NECK BRIDGE               NaN   \n",
       "3          (40.667202, -73.8665)                      NaN               NaN   \n",
       "4        (40.683304, -73.917274)          SARATOGA AVENUE    DECATUR STREET   \n",
       "...                          ...                      ...               ...   \n",
       "2018240   (40.866806, -73.93101)          RIVERSIDE DRIVE               NaN   \n",
       "2018241   (40.844177, -73.90292)          EAST 174 STREET    WEBSTER AVENUE   \n",
       "2018242   (40.711033, -74.01454)              WEST STREET    LIBERTY STREET   \n",
       "2018243    (40.69158, -73.79319)               110 AVENUE        157 STREET   \n",
       "2018244   (40.70024, -73.792854)               SOUTH ROAD        164 STREET   \n",
       "\n",
       "                 OFF STREET NAME  NUMBER OF PERSONS INJURED  ...  \\\n",
       "0                            NaN                        2.0  ...   \n",
       "1                            NaN                        1.0  ...   \n",
       "2                            NaN                        0.0  ...   \n",
       "3        1211      LORING AVENUE                        0.0  ...   \n",
       "4                            NaN                        0.0  ...   \n",
       "...                          ...                        ...  ...   \n",
       "2018240                      NaN                        0.0  ...   \n",
       "2018241                      NaN                        1.0  ...   \n",
       "2018242                      NaN                        0.0  ...   \n",
       "2018243                      NaN                        1.0  ...   \n",
       "2018244                      NaN                        0.0  ...   \n",
       "\n",
       "          CONTRIBUTING FACTOR VEHICLE 2  CONTRIBUTING FACTOR VEHICLE 3  \\\n",
       "0                           Unspecified                            NaN   \n",
       "1                                   NaN                            NaN   \n",
       "2                           Unspecified                            NaN   \n",
       "3                                   NaN                            NaN   \n",
       "4                                   NaN                            NaN   \n",
       "...                                 ...                            ...   \n",
       "2018240                     Unspecified                            NaN   \n",
       "2018241                             NaN                            NaN   \n",
       "2018242                             NaN                            NaN   \n",
       "2018243  Driver Inattention/Distraction                            NaN   \n",
       "2018244                             NaN                            NaN   \n",
       "\n",
       "         CONTRIBUTING FACTOR VEHICLE 4  CONTRIBUTING FACTOR VEHICLE 5  \\\n",
       "0                                  NaN                            NaN   \n",
       "1                                  NaN                            NaN   \n",
       "2                                  NaN                            NaN   \n",
       "3                                  NaN                            NaN   \n",
       "4                                  NaN                            NaN   \n",
       "...                                ...                            ...   \n",
       "2018240                            NaN                            NaN   \n",
       "2018241                            NaN                            NaN   \n",
       "2018242                            NaN                            NaN   \n",
       "2018243                            NaN                            NaN   \n",
       "2018244                            NaN                            NaN   \n",
       "\n",
       "         COLLISION_ID                  VEHICLE TYPE CODE 1  \\\n",
       "0             4455765                                Sedan   \n",
       "1             4513547                                Sedan   \n",
       "2             4541903                                Sedan   \n",
       "3             4456314                                Sedan   \n",
       "4             4486609                                  NaN   \n",
       "...               ...                                  ...   \n",
       "2018240       4648110                                Sedan   \n",
       "2018241       4648117                                Sedan   \n",
       "2018242       4648366                                 Taxi   \n",
       "2018243       4648129  Station Wagon/Sport Utility Vehicle   \n",
       "2018244       4647913                                Sedan   \n",
       "\n",
       "         VEHICLE TYPE CODE 2 VEHICLE TYPE CODE 3 VEHICLE TYPE CODE 4  \\\n",
       "0                      Sedan                 NaN                 NaN   \n",
       "1                        NaN                 NaN                 NaN   \n",
       "2              Pick-up Truck                 NaN                 NaN   \n",
       "3                        NaN                 NaN                 NaN   \n",
       "4                        NaN                 NaN                 NaN   \n",
       "...                      ...                 ...                 ...   \n",
       "2018240                Sedan                 NaN                 NaN   \n",
       "2018241                  NaN                 NaN                 NaN   \n",
       "2018242                  NaN                 NaN                 NaN   \n",
       "2018243               E-Bike                 NaN                 NaN   \n",
       "2018244                  NaN                 NaN                 NaN   \n",
       "\n",
       "        VEHICLE TYPE CODE 5  \n",
       "0                       NaN  \n",
       "1                       NaN  \n",
       "2                       NaN  \n",
       "3                       NaN  \n",
       "4                       NaN  \n",
       "...                     ...  \n",
       "2018240                 NaN  \n",
       "2018241                 NaN  \n",
       "2018242                 NaN  \n",
       "2018243                 NaN  \n",
       "2018244                 NaN  \n",
       "\n",
       "[2018245 rows x 28 columns]"
      ]
     },
     "execution_count": 3,
     "metadata": {},
     "output_type": "execute_result"
    }
   ],
   "source": [
    "df = pd.read_pickle(r\"Motor_Vehicle_Collisions_-_Crashes.pkl\")\n",
    "df"
   ]
  },
  {
   "cell_type": "markdown",
   "id": "77b51b05-d3fa-4941-bdb3-e254875c90c9",
   "metadata": {},
   "source": [
    "## Borough with the second highest number of crashes reported since 2012"
   ]
  },
  {
   "cell_type": "code",
   "execution_count": 9,
   "id": "f68cec5b-288e-4fbb-9586-039e8c28fbfe",
   "metadata": {},
   "outputs": [],
   "source": [
    "df['CRASH DATE_CRASH TIME'] = pd.to_datetime(df['CRASH DATE_CRASH TIME'])\n",
    "df_since_2012 = df[df['CRASH DATE_CRASH TIME'].dt.year >= 2012]"
   ]
  },
  {
   "cell_type": "code",
   "execution_count": 10,
   "id": "5f522402-e321-49d1-9ba4-8288dc3af279",
   "metadata": {},
   "outputs": [],
   "source": [
    "# Group by borough and calculate the total number of crashes reported for each borough\n",
    "borough_crashes_total = df_since_2012.groupby('BOROUGH')['NUMBER OF PERSONS INJURED'].sum()\n"
   ]
  },
  {
   "cell_type": "code",
   "execution_count": 11,
   "id": "441d0758-3fd1-4661-96bc-2bde5e9a9f68",
   "metadata": {},
   "outputs": [],
   "source": [
    "# Find the borough with the second-highest total number of crashes reported\n",
    "second_highest_borough = borough_crashes_total.sort_values(ascending=False).index[1]\n"
   ]
  },
  {
   "cell_type": "code",
   "execution_count": 12,
   "id": "0dce8f5b-64d2-4116-bcf4-56dfd2616f25",
   "metadata": {},
   "outputs": [
    {
     "name": "stdout",
     "output_type": "stream",
     "text": [
      "The borough with the second-highest total number of crashes reported since 2012 is: QUEENS\n"
     ]
    }
   ],
   "source": [
    "print(f\"The borough with the second-highest total number of crashes reported since 2012 is: {second_highest_borough}\")"
   ]
  },
  {
   "cell_type": "markdown",
   "id": "9878f760-af1e-44af-9557-710397e2ea56",
   "metadata": {},
   "source": [
    "## Borough has the most crashes for every 100,000 people since July 2012"
   ]
  },
  {
   "cell_type": "code",
   "execution_count": 13,
   "id": "58c75adc-e8ec-435c-8bd3-c9a3db36bbff",
   "metadata": {},
   "outputs": [],
   "source": [
    "# Define the population for each borough\n",
    "population = pd.Series({\n",
    "    'BRONX': 1446788,\n",
    "    'BROOKLYN': 2648452,\n",
    "    'MANHATTAN': 1638281,\n",
    "    'QUEENS': 2330295,\n",
    "    'STATEN ISLAND': 487155\n",
    "})\n"
   ]
  },
  {
   "cell_type": "code",
   "execution_count": 14,
   "id": "094cdd93-965f-4779-931b-e7a16628136d",
   "metadata": {},
   "outputs": [],
   "source": [
    "# Calculate the total number of crashes in each borough\n",
    "borough_crashes = df['BOROUGH'].value_counts()\n"
   ]
  },
  {
   "cell_type": "code",
   "execution_count": 15,
   "id": "413fcac5-3b4e-4a2d-aec7-4287d8b2d445",
   "metadata": {},
   "outputs": [],
   "source": [
    "# Calculate the number of crashes per 100,000 people for each borough\n",
    "crashes_per_capita = (borough_crashes / population) * 100000\n"
   ]
  },
  {
   "cell_type": "code",
   "execution_count": 16,
   "id": "a4f19c6b-e75d-4b43-be72-28f667e3f490",
   "metadata": {},
   "outputs": [],
   "source": [
    "# Get the borough with the most crashes per 100,000 people\n",
    "borough_most_crashes_per_capita = crashes_per_capita.idxmax()\n",
    "most_crashes = crashes_per_capita.max()\n"
   ]
  },
  {
   "cell_type": "code",
   "execution_count": 17,
   "id": "81f1de48-573a-43a3-9478-97590061c626",
   "metadata": {},
   "outputs": [
    {
     "name": "stdout",
     "output_type": "stream",
     "text": [
      "MANHATTAN, with 19121.62810 crashes since July 2012 per 100k population\n"
     ]
    }
   ],
   "source": [
    "print(f\"{borough_most_crashes_per_capita}, with {most_crashes:.5f} crashes since July 2012 per 100k population\")"
   ]
  },
  {
   "cell_type": "markdown",
   "id": "ec8b4bae-61a5-455b-9c4d-2bcbd1001b1e",
   "metadata": {},
   "source": [
    "## Analyzing the leading cause of crashes"
   ]
  },
  {
   "cell_type": "code",
   "execution_count": 19,
   "id": "c06e6b64-02d4-418c-9b9c-be37b6a66a05",
   "metadata": {},
   "outputs": [
    {
     "name": "stdout",
     "output_type": "stream",
     "text": [
      "The leading cause of crashes (ignoring 'Unspecified') is: Driver Inattention/Distraction\n",
      "The proportion of accidents attributable to this cause is: 30.27%\n"
     ]
    }
   ],
   "source": [
    "# Filter out rows where 'CONTRIBUTING FACTOR VEHICLE 1' is 'Unspecified'\n",
    "df_filtered = df[df['CONTRIBUTING FACTOR VEHICLE 1'] != 'Unspecified']\n",
    "\n",
    "# Determine the leading cause of crashes\n",
    "leading_cause = df_filtered['CONTRIBUTING FACTOR VEHICLE 1'].mode().values[0]\n",
    "\n",
    "# Calculate the proportion of accidents attributable to the leading cause\n",
    "proportion = (df_filtered['CONTRIBUTING FACTOR VEHICLE 1'].value_counts().loc[leading_cause] / len(df_filtered)) * 100\n",
    "\n",
    "print(f\"The leading cause of crashes (ignoring 'Unspecified') is: {leading_cause}\")\n",
    "\n",
    "print(f\"The proportion of accidents attributable to this cause is: {proportion:.2f}%\")\n"
   ]
  },
  {
   "cell_type": "markdown",
   "id": "d79249cd-f389-44eb-8c69-99da145d2d23",
   "metadata": {},
   "source": [
    "## Top 5 causes of crashes"
   ]
  },
  {
   "cell_type": "code",
   "execution_count": 21,
   "id": "e9a0ce6e-6f5a-4808-8ebc-9cece2495aca",
   "metadata": {},
   "outputs": [
    {
     "name": "stdout",
     "output_type": "stream",
     "text": [
      "The top 5 causes of crashes (ignoring 'Unspecified') account for 57.76% of total crashes.\n"
     ]
    }
   ],
   "source": [
    "# Filter out rows where 'CONTRIBUTING FACTOR VEHICLE 1' is 'Unspecified'\n",
    "df_filtered = df[df['CONTRIBUTING FACTOR VEHICLE 1'] != 'Unspecified']\n",
    "\n",
    "# Get the top 5 causes of crashes\n",
    "top_5_causes = df_filtered['CONTRIBUTING FACTOR VEHICLE 1'].value_counts().head(5).index\n",
    "\n",
    "# Filter the dataframe for the top 5 causes\n",
    "df_top_5_causes = df_filtered[df_filtered['CONTRIBUTING FACTOR VEHICLE 1'].isin(top_5_causes)]\n",
    "\n",
    "# Calculate the proportion of total crashes for the top 5 causes\n",
    "proportion_top_5_causes = (len(df_top_5_causes) / len(df_filtered)) * 100\n",
    "\n",
    "print(f\"The top 5 causes of crashes (ignoring 'Unspecified') account for {proportion_top_5_causes:.2f}% of total crashes.\")\n"
   ]
  },
  {
   "cell_type": "markdown",
   "id": "26aa173f-1dab-4539-8581-54dee199ac8e",
   "metadata": {},
   "source": [
    "## Total count of accidents that involved two or more fatalities"
   ]
  },
  {
   "cell_type": "code",
   "execution_count": 23,
   "id": "26ef579a-6ce4-4b3c-9adf-7369f007babb",
   "metadata": {},
   "outputs": [
    {
     "name": "stdout",
     "output_type": "stream",
     "text": [
      "The total count of accidents since 2012 that involved two or more fatalities is: 88\n"
     ]
    }
   ],
   "source": [
    "# Assume missing values for the number of persons killed are equal to zero killed\n",
    "df['NUMBER OF PERSONS KILLED'] = df['NUMBER OF PERSONS KILLED'].fillna(0)\n",
    "\n",
    "# Filter for accidents with two or more fatalities\n",
    "accidents_two_or_more_fatalities = df[df['NUMBER OF PERSONS KILLED'] >= 2]\n",
    "\n",
    "# Calculate the total count of accidents with two or more fatalities\n",
    "total_accidents_two_or_more_fatalities = len(accidents_two_or_more_fatalities)\n",
    "\n",
    "print(f\"The total count of accidents since 2012 that involved two or more fatalities is: {total_accidents_two_or_more_fatalities}\")\n"
   ]
  },
  {
   "cell_type": "markdown",
   "id": "419854a9-abc0-458f-8220-f54d7dcd8e99",
   "metadata": {},
   "source": [
    "##  The average number of accidents resulting in at least one person dead for every 1000 accidents"
   ]
  },
  {
   "cell_type": "code",
   "execution_count": 25,
   "id": "760e21be-7d5c-42e5-bb2c-28c1399d6a0b",
   "metadata": {},
   "outputs": [
    {
     "name": "stdout",
     "output_type": "stream",
     "text": [
      "On average, for every 1000 accidents, approximately 1.389 have resulted in at least one person dead.\n"
     ]
    }
   ],
   "source": [
    "# Assume missing values for the number of persons killed are equal to zero killed\n",
    "df['NUMBER OF PERSONS KILLED'] = df['NUMBER OF PERSONS KILLED'].fillna(0)\n",
    "\n",
    "# Calculate the count of accidents with 1 or more deaths\n",
    "accidents_with_one_or_more_deaths = df[df['NUMBER OF PERSONS KILLED'] >= 1]\n",
    "\n",
    "# Calculate the total number of accidents\n",
    "total_accidents = len(df)\n",
    "\n",
    "# Calculate the average number of accidents with at least one person dead for every 1000 accidents\n",
    "average_accidents_with_deaths_per_1000 = (len(accidents_with_one_or_more_deaths) / total_accidents) * 1000\n",
    "\n",
    "print(f\"On average, for every 1000 accidents, approximately {average_accidents_with_deaths_per_1000:.3f} have resulted in at least one person dead.\")\n"
   ]
  },
  {
   "cell_type": "markdown",
   "id": "3348fb07-e600-4adf-8186-2a9151b7ee5c",
   "metadata": {},
   "source": [
    "## The proportion of accidents in the data that do not have a Cross Street Name"
   ]
  },
  {
   "cell_type": "code",
   "execution_count": 27,
   "id": "ac0d5623-ee69-40b7-9138-945d23e041ee",
   "metadata": {},
   "outputs": [
    {
     "name": "stdout",
     "output_type": "stream",
     "text": [
      "The proportion of accidents without a Cross Street Name is: 37.4%\n"
     ]
    }
   ],
   "source": [
    "# Calculate the proportion of accidents without a Cross Street Name\n",
    "proportion_without_cross_street = (df['CROSS STREET NAME'].isnull().sum() / len(df)) * 100\n",
    "\n",
    "print(f\"The proportion of accidents without a Cross Street Name is: {proportion_without_cross_street:.1f}%\")\n"
   ]
  },
  {
   "cell_type": "markdown",
   "id": "4f7ac6e6-d187-4528-a170-e56da918ec43",
   "metadata": {},
   "source": [
    "##  Vehicle Combinations in Motor Vehicle Accidents"
   ]
  },
  {
   "cell_type": "code",
   "execution_count": 29,
   "id": "7b0dfce6-ca81-40d5-ad9c-25c0ddac005d",
   "metadata": {},
   "outputs": [
    {
     "name": "stdout",
     "output_type": "stream",
     "text": [
      "The combination of vehicles 'Sedan / Sedan' has the most number of accidents with a count of 197944.\n"
     ]
    }
   ],
   "source": [
    "# Drop rows where both 'VEHICLE TYPE CODE 1' and 'VEHICLE TYPE CODE 2' are missing\n",
    "df_vehicle_combinations = df.dropna(subset=['VEHICLE TYPE CODE 1', 'VEHICLE TYPE CODE 2']).copy()\n",
    "\n",
    "# Concatenate 'VEHICLE TYPE CODE 1' and 'VEHICLE TYPE CODE 2' to represent the combination of vehicles\n",
    "df_vehicle_combinations['VEHICLE COMBINATION'] = df_vehicle_combinations['VEHICLE TYPE CODE 1'] + ' / ' + df_vehicle_combinations['VEHICLE TYPE CODE 2']\n",
    "\n",
    "# Find the combination of vehicles with the most number of accidents\n",
    "most_common_vehicle_combination = df_vehicle_combinations['VEHICLE COMBINATION'].mode().values[0]\n",
    "\n",
    "# Count the number of accidents for the most common vehicle combination\n",
    "most_common_vehicle_combination_count = df_vehicle_combinations[df_vehicle_combinations['VEHICLE COMBINATION'] == most_common_vehicle_combination].shape[0]\n",
    "\n",
    "print(f\"The combination of vehicles '{most_common_vehicle_combination}' has the most number of accidents with a count of {most_common_vehicle_combination_count}.\")\n"
   ]
  },
  {
   "cell_type": "markdown",
   "id": "b91ceb4c-8bbc-4042-b34a-cb67be9249b4",
   "metadata": {},
   "source": [
    "## Proportion of Crashes with Alcohol Involvement Resulting in Fatality"
   ]
  },
  {
   "cell_type": "code",
   "execution_count": 31,
   "id": "5339f6b7-a942-43cd-b108-e3f5e8e70d6c",
   "metadata": {},
   "outputs": [
    {
     "name": "stdout",
     "output_type": "stream",
     "text": [
      "The proportion of crashes where the contributing factor was Alcohol Involvement that resulted in a fatality is: 0.5%\n"
     ]
    }
   ],
   "source": [
    "# Filter for collisions where the contributing factor was Alcohol Involvement\n",
    "alcohol_related_collisions = df[df['CONTRIBUTING FACTOR VEHICLE 1'] == 'Alcohol Involvement']\n",
    "\n",
    "# Calculate the proportion of alcohol-related collisions that resulted in a fatality\n",
    "proportion_fatalities_alcohol_related = (alcohol_related_collisions['NUMBER OF PERSONS KILLED'].sum() / len(alcohol_related_collisions)) * 100\n",
    "\n",
    "print(f\"The proportion of crashes where the contributing factor was Alcohol Involvement that resulted in a fatality is: {proportion_fatalities_alcohol_related:.1f}%\")\n"
   ]
  },
  {
   "cell_type": "markdown",
   "id": "74c8fa68-49a2-4eff-9f06-c9445f535b08",
   "metadata": {},
   "source": [
    "## The proportion of crashes during the evening rush hour (4 PM to 7 PM)"
   ]
  },
  {
   "cell_type": "code",
   "execution_count": 33,
   "id": "9107f6da-de54-4292-8cfc-439c1f0b27d6",
   "metadata": {},
   "outputs": [
    {
     "name": "stdout",
     "output_type": "stream",
     "text": [
      "The proportion of crashes during the evening rush hour (4 PM to 7 PM) is: 20.5%\n"
     ]
    }
   ],
   "source": [
    "# Filter for crashes that occur between 4 PM and 7 PM\n",
    "evening_rush_hour_collisions = df[(df['CRASH DATE_CRASH TIME'].dt.hour >= 16) & (df['CRASH DATE_CRASH TIME'].dt.hour < 19)]\n",
    "\n",
    "# Calculate the proportion of crashes during the evening rush hour\n",
    "proportion_evening_rush_hour = (len(evening_rush_hour_collisions) / len(df)) * 100\n",
    "\n",
    "print(f\"The proportion of crashes during the evening rush hour (4 PM to 7 PM) is: {proportion_evening_rush_hour:.1f}%\")\n"
   ]
  },
  {
   "cell_type": "markdown",
   "id": "4d7e43c9-c084-4a80-981b-6badf1e409f0",
   "metadata": {},
   "source": [
    "## The proportion of crashes involving motorcycles that resulted in injuries but no fatalities"
   ]
  },
  {
   "cell_type": "code",
   "execution_count": 36,
   "id": "3e3b9d40-8400-4212-adb5-c0fe24747889",
   "metadata": {},
   "outputs": [
    {
     "name": "stdout",
     "output_type": "stream",
     "text": [
      "The proportion of crashes involving motorcycles that resulted in injuries but no fatalities is: 50.05%\n"
     ]
    }
   ],
   "source": [
    "# Filter for crashes involving motorcycles\n",
    "motorcycle_collisions = df[df['VEHICLE TYPE CODE 1'].str.contains('MOTORCYCLE') | df['VEHICLE TYPE CODE 2'].str.contains('MOTORCYCLE')]\n",
    "\n",
    "# Filter the reduced dataset for injuries greater than 0 and fatalities equal to 0\n",
    "injuries_no_fatalities_motorcycle = motorcycle_collisions[(motorcycle_collisions['NUMBER OF PERSONS INJURED'] > 0) & (motorcycle_collisions['NUMBER OF PERSONS KILLED'] == 0)]\n",
    "\n",
    "# Calculate the proportion of motorcycle crashes resulting in injuries but no fatalities\n",
    "proportion_injuries_no_fatalities_motorcycle = (len(injuries_no_fatalities_motorcycle) / len(motorcycle_collisions)) * 100\n",
    "\n",
    "print(f\"The proportion of crashes involving motorcycles that resulted in injuries but no fatalities is: {proportion_injuries_no_fatalities_motorcycle:.2f}%\")\n"
   ]
  },
  {
   "cell_type": "markdown",
   "id": "c1ba3a02-0c2a-48e9-8160-b7ad96fe48bd",
   "metadata": {},
   "source": [
    "## The number of crashes involving bicycles as one of the vehicles\n"
   ]
  },
  {
   "cell_type": "code",
   "execution_count": 38,
   "id": "bcea8c5c-5160-4189-9d22-254146814302",
   "metadata": {},
   "outputs": [
    {
     "name": "stdout",
     "output_type": "stream",
     "text": [
      "The number of crashes involving bicycles as one of the vehicles is: 19108\n"
     ]
    }
   ],
   "source": [
    "# Filter for crashes involving bicycles\n",
    "bicycle_collisions = df[df['VEHICLE TYPE CODE 1'].str.contains('BICYCLE') | df['VEHICLE TYPE CODE 2'].str.contains('BICYCLE')]\n",
    "\n",
    "# Calculate the number of crashes involving bicycles\n",
    "num_bicycle_collisions = len(bicycle_collisions)\n",
    "\n",
    "print(f\"The number of crashes involving bicycles as one of the vehicles is: {num_bicycle_collisions}\")"
   ]
  },
  {
   "cell_type": "code",
   "execution_count": null,
   "id": "588856e2-4534-456a-86e8-d7e6c0b2f43c",
   "metadata": {},
   "outputs": [],
   "source": []
  }
 ],
 "metadata": {
  "kernelspec": {
   "display_name": "Python [conda env:mggy8413]",
   "language": "python",
   "name": "conda-env-mggy8413-py"
  },
  "language_info": {
   "codemirror_mode": {
    "name": "ipython",
    "version": 3
   },
   "file_extension": ".py",
   "mimetype": "text/x-python",
   "name": "python",
   "nbconvert_exporter": "python",
   "pygments_lexer": "ipython3",
   "version": "3.11.8"
  }
 },
 "nbformat": 4,
 "nbformat_minor": 5
}
