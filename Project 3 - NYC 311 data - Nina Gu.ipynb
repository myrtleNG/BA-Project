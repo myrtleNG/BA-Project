{
 "cells": [
  {
   "cell_type": "markdown",
   "id": "0d4d2f8b-9e16-44c6-b1cb-185018f75292",
   "metadata": {},
   "source": [
    "# Class Project 3 – NYC 311 Calls"
   ]
  },
  {
   "cell_type": "markdown",
   "id": "fa179fed-ac07-4f65-8243-252e900f1458",
   "metadata": {},
   "source": [
    "NYC 311 is a service that provides access to non-emergency City services and info about City government programs to the residents of New York.  Each year, the service receives millions of requests reporting various kinds of problems with city services and other issues.\n",
    "\n",
    "The data on the type of calls received and their ultimate resolution is made available through the NYC Open Data portal at https://data.cityofnewyork.us/Social-Services/311-Service-Requests-from-2010-to-Present/erm2-nwe9. The data is updated daily.  The link also provides the data dictionary for the data.\n",
    "\n",
    "To ensure that using the same data and arrive at the same results, the data has been downloaded and includes information up to 2023-08-04 12:00:00.  Several columns not required for this project have been removed from the original data. "
   ]
  },
  {
   "cell_type": "code",
   "execution_count": null,
   "id": "234559f0-e3be-469a-a29e-db11a0e07fb5",
   "metadata": {},
   "outputs": [],
   "source": []
  }
 ],
 "metadata": {
  "kernelspec": {
   "display_name": "Python [conda env:mggy8413v2]",
   "language": "python",
   "name": "conda-env-mggy8413v2-py"
  },
  "language_info": {
   "codemirror_mode": {
    "name": "ipython",
    "version": 3
   },
   "file_extension": ".py",
   "mimetype": "text/x-python",
   "name": "python",
   "nbconvert_exporter": "python",
   "pygments_lexer": "ipython3",
   "version": "3.11.7"
  }
 },
 "nbformat": 4,
 "nbformat_minor": 5
}
